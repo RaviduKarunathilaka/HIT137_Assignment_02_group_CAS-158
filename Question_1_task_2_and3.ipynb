{
 "cells": [
  {
   "cell_type": "code",
   "execution_count": null,
   "metadata": {},
   "outputs": [],
   "source": [
    "pip install spacy scispacy transformers datasets pandas\n",
    "pip install https://s3-us-west-2.amazonaws.com/ai2-s2-scispacy/releases/v0.4.0/en_core_sci_sm-0.4.0.tar.gz\n",
    "pip install https://s3-us-west-2.amazonaws.com/ai2-s2-scispacy/releases/v0.4.0/en_ner_bc5cdr_md-0.4.0.tar.gz\n"
   ]
  },
  {
   "cell_type": "code",
   "execution_count": 2,
   "metadata": {},
   "outputs": [],
   "source": [
    "file_path = 'C:/Users/rahma/Downloads/output_texts.txt'\n"
   ]
  },
  {
   "cell_type": "code",
   "execution_count": 4,
   "metadata": {},
   "outputs": [
    {
     "name": "stdout",
     "output_type": "stream",
     "text": [
      "Top 30 words saved to C:/Users/rahma/Downloads/top_30_words.csv\n"
     ]
    }
   ],
   "source": [
    "import csv\n",
    "import collections\n",
    "import re\n",
    "from collections import Counter\n",
    "\n",
    "# Function to count words\n",
    "def count_words(file_path):\n",
    "    # Read the file\n",
    "    with open(file_path, 'r', encoding='utf-8') as f:\n",
    "        text = f.read()\n",
    "\n",
    "    # Tokenize the words by splitting on non-alphabetic characters\n",
    "    words = re.findall(r'\\b\\w+\\b', text.lower())\n",
    "    \n",
    "    # Count occurrences of each word\n",
    "    word_counts = Counter(words)\n",
    "\n",
    "    # Get the top 30 most common words\n",
    "    top_30 = word_counts.most_common(30)\n",
    "    \n",
    "    return top_30\n",
    "\n",
    "# Function to save the top 30 words to a CSV\n",
    "def save_to_csv(word_counts, csv_filename):\n",
    "    # Write the results to a CSV file\n",
    "    with open(csv_filename, 'w', newline='') as csvfile:\n",
    "        writer = csv.writer(csvfile)\n",
    "        writer.writerow(['Word', 'Count'])\n",
    "        writer.writerows(word_counts)\n",
    "\n",
    "# Main function\n",
    "if __name__ == \"__main__\":\n",
    "    # Update with the correct path to your file in the Downloads folder\n",
    "    file_path = 'C:/Users/rahma/Downloads/output_texts.txt'\n",
    "    \n",
    "    # Update this path to your Downloads folder\n",
    "    csv_filename = 'C:/Users/rahma/Downloads/top_30_words.csv'\n",
    "    \n",
    "    # Count words and get top 30\n",
    "    top_30_words = count_words(file_path)\n",
    "    \n",
    "    # Save the results to a CSV file\n",
    "    save_to_csv(top_30_words, csv_filename)\n",
    "\n",
    "    print(f\"Top 30 words saved to {csv_filename}\")\n"
   ]
  },
  {
   "cell_type": "code",
   "execution_count": null,
   "metadata": {},
   "outputs": [],
   "source": []
  }
 ],
 "metadata": {
  "kernelspec": {
   "display_name": "base",
   "language": "python",
   "name": "python3"
  },
  "language_info": {
   "codemirror_mode": {
    "name": "ipython",
    "version": 3
   },
   "file_extension": ".py",
   "mimetype": "text/x-python",
   "name": "python",
   "nbconvert_exporter": "python",
   "pygments_lexer": "ipython3",
   "version": "3.12.4"
  }
 },
 "nbformat": 4,
 "nbformat_minor": 2
}
